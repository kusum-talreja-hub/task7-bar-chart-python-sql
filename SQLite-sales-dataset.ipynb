{
 "cells": [
  {
   "cell_type": "code",
   "execution_count": 1,
   "id": "7cb0f489-a8ea-44f9-a106-be30a6d15a67",
   "metadata": {},
   "outputs": [],
   "source": [
    "import sqlite3 \n",
    "import pandas \n",
    "import matplotlib"
   ]
  },
  {
   "cell_type": "code",
   "execution_count": 2,
   "id": "fbd5477b-59a9-405b-a823-9b646c0267cd",
   "metadata": {},
   "outputs": [],
   "source": [
    "conn = sqlite3.connect(\"sales_data.db\")\n",
    "cur = conn.cursor()"
   ]
  },
  {
   "cell_type": "code",
   "execution_count": 24,
   "id": "9859bc5e-be9d-4964-9212-47f26e1ae645",
   "metadata": {},
   "outputs": [
    {
     "ename": "OperationalError",
     "evalue": "table sales already exists",
     "output_type": "error",
     "traceback": [
      "\u001b[1;31m---------------------------------------------------------------------------\u001b[0m",
      "\u001b[1;31mOperationalError\u001b[0m                          Traceback (most recent call last)",
      "Cell \u001b[1;32mIn[24], line 1\u001b[0m\n\u001b[1;32m----> 1\u001b[0m cur\u001b[38;5;241m.\u001b[39mexecute(\u001b[38;5;124m'''\u001b[39m\n\u001b[0;32m      2\u001b[0m \u001b[38;5;124mCREATE TABLE sales (\u001b[39m\n\u001b[0;32m      3\u001b[0m \u001b[38;5;124m    order_id VARCHAR(15) PRIMARY KEY NOT NULL,\u001b[39m\n\u001b[0;32m      4\u001b[0m \u001b[38;5;124m    product TEXT,\u001b[39m\n\u001b[0;32m      5\u001b[0m \u001b[38;5;124m    units_sold INTEGER,\u001b[39m\n\u001b[0;32m      6\u001b[0m \u001b[38;5;124m    unit_price DOUBLE,\u001b[39m\n\u001b[0;32m      7\u001b[0m \u001b[38;5;124m    total_revenue DOUBLE);\u001b[39m\u001b[38;5;124m'''\u001b[39m)\n",
      "\u001b[1;31mOperationalError\u001b[0m: table sales already exists"
     ]
    }
   ],
   "source": [
    "cur.execute('''\n",
    "CREATE TABLE sales (\n",
    "    order_id VARCHAR(15) PRIMARY KEY NOT NULL,\n",
    "    product TEXT,\n",
    "    units_sold INTEGER,\n",
    "    unit_price DOUBLE,\n",
    "    total_revenue DOUBLE);''')"
   ]
  },
  {
   "cell_type": "code",
   "execution_count": 25,
   "id": "0c70966d-8e3f-4ddc-af31-54d2c4da3e7e",
   "metadata": {},
   "outputs": [],
   "source": [
    "sample_data=[\n",
    "    (\"ORD200478\", \"Tablet\", 3, 62.77, 188.31),\n",
    "    (\"ORD200278\", \"Laptop\", 5, 362.46, 1812.3),\n",
    "    (\"ORD200582\", \"Tablet\", 3, 474.14, 1422.42),\n",
    "    (\"ORD200728\", \"Desk\", 4, 325.76,1303.04),\n",
    "    (\"ORD200740\", \"Desk\", 2, 377.47, 754.94),\n",
    "    (\"ORD200186\", \"Phone\", 2, 133.55, 267.1),\n",
    "    (\"ORD200698\", \"Laptop\", 2, 388.22, 776.44),\n",
    "    (\"ORD201017\",\"Chair\",2, 680.85, 1361.7),\n",
    "    (\"ORD200110\",\"Tablet\", 1, 220.77, 220.77),\n",
    "    (\"ORD200726\",\"Laptop\",4, 583.02, 2332.08)]"
   ]
  },
  {
   "cell_type": "code",
   "execution_count": 32,
   "id": "175b1485-95c1-4d90-8bb3-4bfc6b4dfe5a",
   "metadata": {},
   "outputs": [
    {
     "data": {
      "text/plain": [
       "<sqlite3.Cursor at 0x266acf0f940>"
      ]
     },
     "execution_count": 32,
     "metadata": {},
     "output_type": "execute_result"
    }
   ],
   "source": [
    "cur.executemany(\n",
    "    \"INSERT INTO sales (order_id, product, units_sold, unit_price, total_revenue) VALUES (?, ?, ?, ?, ?)\",\n",
    "    sample_data)"
   ]
  },
  {
   "cell_type": "code",
   "execution_count": 7,
   "id": "4d0112b4-ff6d-45ce-8fa0-98d053ede43a",
   "metadata": {},
   "outputs": [
    {
     "name": "stdout",
     "output_type": "stream",
     "text": [
      "[('ORD200478', 'Tablet', 3, 62.77, 188.31), ('ORD200278', 'Laptop', 5, 362.46, 1812.3), ('ORD200582', 'Tablet', 3, 474.14, 1422.42), ('ORD200728', 'Desk', 4, 325.76, 1303.04), ('ORD200740', 'Desk', 2, 377.47, 754.94), ('ORD200186', 'Phone', 2, 133.55, 267.1), ('ORD200698', 'Laptop', 2, 388.22, 776.44), ('ORD201017', 'Chair', 2, 680.85, 1361.7), ('ORD200110', 'Tablet', 1, 220.77, 220.77), ('ORD200726', 'Laptop', 4, 583.02, 2332.08)]\n"
     ]
    }
   ],
   "source": [
    "cur.execute('SELECT * FROM sales')   # run the query\n",
    "rows = cur.fetchall()                # get all results\n",
    "print(rows)                          # shows results\n"
   ]
  },
  {
   "cell_type": "code",
   "execution_count": 8,
   "id": "38dad6bd-4b5d-4674-b2f2-20daabfe2de4",
   "metadata": {},
   "outputs": [
    {
     "name": "stdout",
     "output_type": "stream",
     "text": [
      "   SUM(total_revenue)\n",
      "0             10439.1\n"
     ]
    }
   ],
   "source": [
    "query=('SELECT SUM(total_revenue) FROM sales');\n",
    "import pandas as pd \n",
    "df = pd.read_sql_query(query, conn)\n",
    "print(df)"
   ]
  },
  {
   "cell_type": "markdown",
   "id": "560558b9-cd63-4a15-b0c2-a0df7ab4029a",
   "metadata": {},
   "source": [
    "**OR**"
   ]
  },
  {
   "cell_type": "code",
   "execution_count": 9,
   "id": "282ce474-d4e2-4777-9994-2f4b5916c6d0",
   "metadata": {},
   "outputs": [
    {
     "name": "stdout",
     "output_type": "stream",
     "text": [
      "(10439.1,)\n"
     ]
    }
   ],
   "source": [
    "cur.execute('SELECT SUM(total_revenue) FROM sales');\n",
    "for row in cur.fetchall(): print(row)"
   ]
  },
  {
   "cell_type": "code",
   "execution_count": 27,
   "id": "cbf799ad-8e31-4f34-8de2-b2cfb3da8e4c",
   "metadata": {},
   "outputs": [
    {
     "name": "stdout",
     "output_type": "stream",
     "text": [
      "  product  unit_price  total_units  total_product_revenue\n",
      "0  Laptop      362.46           11                4920.82\n",
      "1    Desk      325.76            6                2057.98\n",
      "2  Tablet       62.77            7                1831.50\n",
      "3   Chair      680.85            2                1361.70\n",
      "4   Phone      133.55            2                 267.10\n"
     ]
    }
   ],
   "source": [
    "query=('''SELECT product, unit_price,\n",
    "SUM(units_sold) AS total_units, \n",
    "SUM(total_revenue) AS total_product_revenue\n",
    "FROM sales\n",
    "GROUP BY product\n",
    "ORDER BY total_product_revenue DESC\n",
    "''');\n",
    "import pandas as pd\n",
    "df= pd.read_sql_query(query, conn)\n",
    "print(df);"
   ]
  },
  {
   "cell_type": "raw",
   "id": "73e8bc34-ee3c-4aea-96f9-af5a25613476",
   "metadata": {},
   "source": [
    "Laptop generates the highest revenue since it is sold the most."
   ]
  },
  {
   "cell_type": "code",
   "execution_count": 37,
   "id": "213d5bf1-8260-4737-bb57-a36aaacfbc88",
   "metadata": {},
   "outputs": [
    {
     "name": "stdout",
     "output_type": "stream",
     "text": [
      "  product  total_product_revenue\n",
      "0   Chair                1361.70\n",
      "1    Desk                2057.98\n",
      "2  Laptop                4920.82\n",
      "3   Phone                 267.10\n",
      "4  Tablet                1831.50\n"
     ]
    },
    {
     "data": {
      "image/png": "[encoded data removed]",
      "text/plain": [
       "<Figure size 600x400 with 1 Axes>"
      ]
     },
     "metadata": {},
     "output_type": "display_data"
    }
   ],
   "source": [
    "import pandas as pd\n",
    "import matplotlib.pyplot as plt\n",
    "\n",
    "query=('''SELECT product, SUM(total_revenue) AS total_product_revenue\n",
    "FROM sales\n",
    "GROUP BY product\n",
    "''');\n",
    "\n",
    "df= pd.read_sql_query(query, conn)\n",
    "print(df);\n",
    "x=df['product']\n",
    "y=df['total_product_revenue']\n",
    "\n",
    "plt.figure(figsize=(6,4))\n",
    "plt.bar(x, y, label='Revenue by Product')\n",
    "plt.title('Total Revenue by Product')\n",
    "plt.xlabel('Product', color='blue')\n",
    "plt.ylabel('Total Revenue', color='blue')\n",
    "plt.show()\n"
   ]
  }
 ],
 "metadata": {
  "kernelspec": {
   "display_name": "Python [conda env:base] *",
   "language": "python",
   "name": "conda-base-py"
  },
  "language_info": {
   "codemirror_mode": {
    "name": "ipython",
    "version": 3
   },
   "file_extension": ".py",
   "mimetype": "text/x-python",
   "name": "python",
   "nbconvert_exporter": "python",
   "pygments_lexer": "ipython3",
   "version": "3.13.5"
  }
 },
 "nbformat": 4,
 "nbformat_minor": 5
}
